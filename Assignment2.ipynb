{
 "cells": [
  {
   "cell_type": "markdown",
   "id": "517a1598-bdb8-416e-b1fe-1c2566003534",
   "metadata": {},
   "source": [
    "# Question1"
   ]
  },
  {
   "cell_type": "code",
   "execution_count": 8,
   "id": "2ce0992d-23e0-4ba2-98ab-1be064a6832f",
   "metadata": {},
   "outputs": [
    {
     "name": "stdin",
     "output_type": "stream",
     "text": [
      "Enter the account holder name renjith\n",
      "Enter the initial balance 1000\n",
      "Enter the amount to be deposited 200\n",
      "Enter the amount to be withdraw 300\n"
     ]
    },
    {
     "name": "stdout",
     "output_type": "stream",
     "text": [
      "Deposited Rs200. New balance: Rs1200\n",
      "Withdrew Rs300. New balance: Rs900\n",
      "Account balance for renjith: Rs900\n"
     ]
    }
   ],
   "source": [
    "class BankAccount:\n",
    "    def __init__(self, account_holder, initial_balance=0):\n",
    "        self.account_holder = account_holder\n",
    "        self.balance = initial_balance\n",
    "\n",
    "    def deposit(self, amount):\n",
    "        if amount > 0:\n",
    "            self.balance += amount\n",
    "            print(f\"Deposited Rs{amount}. New balance: Rs{self.balance}\")\n",
    "        else:\n",
    "            print(f\"Invalid deposit amount. Please enter a positive value.\")\n",
    "\n",
    "    def withdraw(self, amount):\n",
    "        if amount > 0:\n",
    "            if self.balance >= amount:\n",
    "                self.balance -= amount\n",
    "                print(f\"Withdrew Rs{amount}. New balance: Rs{self.balance}\")\n",
    "            else:\n",
    "                print(\"There is no sufficient Balance to withdraw this amount\")\n",
    "        else:\n",
    "            print(\"Invalid withdrawal amount. Please enter a positive value.\")\n",
    "\n",
    "    def Balance_Check(self):\n",
    "        print(f\"Account balance for {self.account_holder}: Rs{self.balance}\")\n",
    "\n",
    "name=input('Enter the account holder name')\n",
    "IniBal=int(input('Enter the initial balance'))\n",
    "D=int(input('Enter the amount to be deposited'))\n",
    "w=int(input('Enter the amount to be withdraw'))\n",
    "\n",
    "\n",
    "if __name__ == \"__main__\":\n",
    "    account = BankAccount(name, IniBal)\n",
    "    account.deposit(D)\n",
    "    account.withdraw(w)\n",
    "    account.Balance_Check()\n",
    "\n",
    "    \n",
    "\n",
    "\n",
    "\n"
   ]
  },
  {
   "cell_type": "code",
   "execution_count": 10,
   "id": "6585ce87-5d6c-40f3-b558-3f0396d3184d",
   "metadata": {
    "scrolled": true
   },
   "outputs": [
    {
     "name": "stdin",
     "output_type": "stream",
     "text": [
      "Enter the account holder name silpa\n",
      "Enter the initial balance 200\n",
      "Enter the amount to be deposited 100\n",
      "Enter the amount to be withdraw 500\n"
     ]
    },
    {
     "name": "stdout",
     "output_type": "stream",
     "text": [
      "Deposited Rs100. New balance: Rs300\n",
      "There is no sufficient Balance to withdraw this amount\n",
      "Account balance for silpa: Rs300\n"
     ]
    }
   ],
   "source": [
    "#tried another input\n",
    "name=input('Enter the account holder name')\n",
    "IniBal=int(input('Enter the initial balance'))\n",
    "D=int(input('Enter the amount to be deposited'))\n",
    "w=int(input('Enter the amount to be withdraw'))\n",
    "\n",
    "\n",
    "if __name__ == \"__main__\":\n",
    "    account = BankAccount(name, IniBal)\n",
    "    account.deposit(D)\n",
    "    account.withdraw(w)\n",
    "    account.Balance_Check()"
   ]
  },
  {
   "cell_type": "markdown",
   "id": "a8dc812f-5e16-4faf-bd62-fcd35da363db",
   "metadata": {},
   "source": [
    "# Question 2"
   ]
  },
  {
   "cell_type": "code",
   "execution_count": 26,
   "id": "1c906d00-2265-495a-80bd-4770f218d61f",
   "metadata": {},
   "outputs": [
    {
     "name": "stdin",
     "output_type": "stream",
     "text": [
      "Enter the location name palakkad\n",
      "Enter the first temperature in degree celsius 30\n",
      "Enter the first humidity 90\n",
      "Enter the second temperature in degree celsius 36\n",
      "Enter the second humidity 98\n",
      "Enter the third temperature in degree celsius 34\n",
      "Enter the third humidity 94\n"
     ]
    },
    {
     "name": "stdout",
     "output_type": "stream",
     "text": [
      "Region: palakkad\n",
      "Average Temperature: 33.33°C\n",
      "Average Humidity: 94.00%\n",
      "This is a hot weather\n",
      "This is most humid climate\n"
     ]
    }
   ],
   "source": [
    "class Weather_Data_analyzer:\n",
    "    def __init__(self, region):\n",
    "        self.region = region\n",
    "        self.temperature = []  \n",
    "        self.humidity = []     \n",
    "\n",
    "    def add_reading(self, temperature, humidity):\n",
    "        self.temperature.append(temperature)\n",
    "        self.humidity.append(humidity)\n",
    "\n",
    "    def calculate_average_temperature(self):\n",
    "        if self.temperature:\n",
    "            avg_temp = sum(self.temperature) / len(self.temperature)\n",
    "            return avg_temp\n",
    "        else:\n",
    "            return None\n",
    "\n",
    "    def calculate_average_humidity(self):\n",
    "        if self.humidity:\n",
    "            avg_humidity = sum(self.humidity) / len(self.humidity)\n",
    "            return avg_humidity\n",
    "        else:\n",
    "            return None\n",
    "\n",
    "    def temp_analyzer(self):\n",
    "        avg_temp = self.calculate_average_temperature()\n",
    "        if avg_temp is not None:\n",
    "            if avg_temp > 24:\n",
    "                return \"This is a hot weather\"\n",
    "            elif avg_temp < 18:\n",
    "                return \"This is cold weather\"\n",
    "            else:\n",
    "                return \"The weather is normal.\"\n",
    "        else:\n",
    "            return \"No temperature data available.\"\n",
    "\n",
    "    def humid_analyzer(self):\n",
    "        avg_humidity=self.calculate_average_humidity()\n",
    "        if avg_humidity is not None:\n",
    "            if avg_humidity > 75:\n",
    "                return \"This is most humid climate\"\n",
    "            elif avg_humidity < 45:\n",
    "                return \"This is least humid climate\"\n",
    "            else:\n",
    "                return \"The humidity level is normal\"\n",
    "        else:\n",
    "             return \"No humidity data available.\"\n",
    "             \n",
    "loc=input(\"Enter the location name\")\n",
    "t1=float(input(\"Enter the first temperature in degree celsius\"))\n",
    "h1=float(input(\"Enter the first humidity\"))\n",
    "t2=float(input(\"Enter the second temperature in degree celsius\"))\n",
    "h2=float(input(\"Enter the second humidity\"))\n",
    "t3=float(input(\"Enter the third temperature in degree celsius\"))\n",
    "h3=float(input(\"Enter the third humidity\"))\n",
    "\n",
    "if __name__ == \"__main__\":\n",
    "    weather_analyzer = Weather_Data_analyzer(loc)\n",
    "    weather_analyzer.add_reading(t1,h1)  \n",
    "    weather_analyzer.add_reading(t2,h2)\n",
    "    weather_analyzer.add_reading(t3,h3)\n",
    "\n",
    "    avg_temp = weather_analyzer.calculate_average_temperature()\n",
    "    avg_humidity = weather_analyzer.calculate_average_humidity()\n",
    "\n",
    "    print(f\"Region: {weather_analyzer.region}\")\n",
    "    print(f\"Average Temperature: {avg_temp:.2f}°C\")\n",
    "    print(f\"Average Humidity: {avg_humidity:.2f}%\")\n",
    "    print(weather_analyzer.temp_analyzer())\n",
    "    print(weather_analyzer.humid_analyzer())\n"
   ]
  },
  {
   "cell_type": "code",
   "execution_count": 28,
   "id": "8f1b9053-9e75-4d20-8605-50a7ad9c7b08",
   "metadata": {},
   "outputs": [
    {
     "name": "stdin",
     "output_type": "stream",
     "text": [
      "Enter the location name perinthalmanna\n",
      "Enter the first temperature in degree celsius 24\n",
      "Enter the first humidity 42\n",
      "Enter the second temperature in degree celsius 22\n",
      "Enter the second humidity 40\n",
      "Enter the third temperature in degree celsius 21\n",
      "Enter the third humidity 40\n"
     ]
    },
    {
     "name": "stdout",
     "output_type": "stream",
     "text": [
      "Region: perinthalmanna\n",
      "Average Temperature: 22.33°C\n",
      "Average Humidity: 40.67%\n",
      "The weather is normal.\n",
      "This is least humid climate\n"
     ]
    }
   ],
   "source": [
    "loc=input(\"Enter the location name\")\n",
    "t1=float(input(\"Enter the first temperature in degree celsius\"))\n",
    "h1=float(input(\"Enter the first humidity\"))\n",
    "t2=float(input(\"Enter the second temperature in degree celsius\"))\n",
    "h2=float(input(\"Enter the second humidity\"))\n",
    "t3=float(input(\"Enter the third temperature in degree celsius\"))\n",
    "h3=float(input(\"Enter the third humidity\"))\n",
    "\n",
    "if __name__ == \"__main__\":\n",
    "    weather_analyzer = Weather_Data_analyzer(loc)\n",
    "    weather_analyzer.add_reading(t1,h1)  \n",
    "    weather_analyzer.add_reading(t2,h2)\n",
    "    weather_analyzer.add_reading(t3,h3)\n",
    "\n",
    "    avg_temp = weather_analyzer.calculate_average_temperature()\n",
    "    avg_humidity = weather_analyzer.calculate_average_humidity()\n",
    "\n",
    "    print(f\"Region: {weather_analyzer.region}\")\n",
    "    print(f\"Average Temperature: {avg_temp:.2f}°C\")\n",
    "    print(f\"Average Humidity: {avg_humidity:.2f}%\")\n",
    "    print(weather_analyzer.temp_analyzer())\n",
    "    print(weather_analyzer.humid_analyzer())"
   ]
  },
  {
   "cell_type": "code",
   "execution_count": null,
   "id": "8fbdc808-eba2-4f0c-9eba-16f1389de3b5",
   "metadata": {},
   "outputs": [],
   "source": []
  }
 ],
 "metadata": {
  "kernelspec": {
   "display_name": "Python 3 (ipykernel)",
   "language": "python",
   "name": "python3"
  },
  "language_info": {
   "codemirror_mode": {
    "name": "ipython",
    "version": 3
   },
   "file_extension": ".py",
   "mimetype": "text/x-python",
   "name": "python",
   "nbconvert_exporter": "python",
   "pygments_lexer": "ipython3",
   "version": "3.12.4"
  }
 },
 "nbformat": 4,
 "nbformat_minor": 5
}
